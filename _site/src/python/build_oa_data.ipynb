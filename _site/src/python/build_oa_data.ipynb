{
 "cells": [
  {
   "attachments": {},
   "cell_type": "markdown",
   "metadata": {},
   "source": [
    "# Gathering data on journal OA status\n",
    "\n",
    "This notebook generates and explores the landscape of `oa_status` and `default_license` for journals and self-publishing repositories using open data from:\n",
    "- Polka, J. (2023). Archive of ASAPbio's list of preprint servers: policies and practices across platforms [Data set]. Zenodo. https://doi.org/10.5281/zenodo.8230987\n",
    "- SpringerNature's [Hybrid journals](https://www.springernature.com/gp/open-research/about/green-or-gold-routes-to-OA/hybrid-options) site (license unknown)\n",
    "- SpringerNature's [Open Access journals](https://www.springernature.com/gp/open-research/journals-books/journals) site (license unknown)\n",
    "\n",
    "The resulting data file is stored under [oa_status.yaml](../data/oa_status.yaml)"
   ]
  },
  {
   "cell_type": "code",
   "execution_count": 1,
   "metadata": {},
   "outputs": [],
   "source": [
    "import pandas as pd\n",
    "import matplotlib.pyplot as plt\n",
    "import yaml"
   ]
  },
  {
   "attachments": {},
   "cell_type": "markdown",
   "metadata": {},
   "source": [
    "We define a list of open licenses:"
   ]
  },
  {
   "cell_type": "code",
   "execution_count": 2,
   "metadata": {},
   "outputs": [],
   "source": [
    "open_licenses = ['CC0', 'CC BY', 'CC BY-SA', 'CC BY-NC', 'CC BY-ND', 'CC BY-NC-SA', 'CC BY-NC-ND', 'Apache-2.0', 'MIT', 'BSD-2-Clause', 'BSD-3-Clause', 'GPL-2.0', 'GPL-3.0', 'LGPL-2.1', 'LGPL-3.0', 'Mozilla Public License 2.0', 'EPL-1.0', 'ISC', 'WTFPL', 'Unlicense', 'AGPL-3.0', 'MPL-2.0', 'CDDL-1.0', 'ODC-By', 'ODC-ODbL', 'ODbL', 'PDDL', 'CC-BY 4.0']\n"
   ]
  },
  {
   "attachments": {},
   "cell_type": "markdown",
   "metadata": {},
   "source": [
    "And instantiate the links to the used data sets:"
   ]
  },
  {
   "cell_type": "code",
   "execution_count": 3,
   "metadata": {},
   "outputs": [],
   "source": [
    "gold_url = \"https://resource-cms.springernature.com/springer-cms/rest/v1/content/26206380/data/v7\"\n",
    "hybrid_url = 'https://resource-cms.springernature.com/springer-cms/rest/v1/content/26206374/data/v3'\n",
    "archives_url = 'https://zenodo.org/records/8230987/files/ASAPbio%20Preprint%20Directory%202023-08-09.csv?download=1'\n"
   ]
  },
  {
   "attachments": {},
   "cell_type": "markdown",
   "metadata": {},
   "source": [
    "## SpringerNature Open Access Journals\n",
    "We instantiate a data frame with the SpringerNature Open Access data:"
   ]
  },
  {
   "cell_type": "code",
   "execution_count": 4,
   "metadata": {},
   "outputs": [],
   "source": [
    "gold = pd.read_excel(gold_url, skiprows=3)\n",
    "gold['source'] = [gold_url for i in range(len(gold))]"
   ]
  },
  {
   "cell_type": "code",
   "execution_count": 5,
   "metadata": {},
   "outputs": [
    {
     "data": {
      "text/html": [
       "<div>\n",
       "<style scoped>\n",
       "    .dataframe tbody tr th:only-of-type {\n",
       "        vertical-align: middle;\n",
       "    }\n",
       "\n",
       "    .dataframe tbody tr th {\n",
       "        vertical-align: top;\n",
       "    }\n",
       "\n",
       "    .dataframe thead th {\n",
       "        text-align: right;\n",
       "    }\n",
       "</style>\n",
       "<table border=\"1\" class=\"dataframe\">\n",
       "  <thead>\n",
       "    <tr style=\"text-align: right;\">\n",
       "      <th></th>\n",
       "      <th>Journal title</th>\n",
       "      <th>eISSN</th>\n",
       "      <th>Imprint</th>\n",
       "      <th>Default License</th>\n",
       "      <th>EUR '24</th>\n",
       "      <th>USD '24</th>\n",
       "      <th>GBP '24</th>\n",
       "      <th>Website</th>\n",
       "      <th>source</th>\n",
       "    </tr>\n",
       "  </thead>\n",
       "  <tbody>\n",
       "    <tr>\n",
       "      <th>182</th>\n",
       "      <td>Clinical Cancer Bulletin</td>\n",
       "      <td>2791-3937</td>\n",
       "      <td>Springer</td>\n",
       "      <td>CC BY</td>\n",
       "      <td>1790</td>\n",
       "      <td>2190</td>\n",
       "      <td>1490</td>\n",
       "      <td>NaN</td>\n",
       "      <td>https://resource-cms.springernature.com/spring...</td>\n",
       "    </tr>\n",
       "    <tr>\n",
       "      <th>656</th>\n",
       "      <td>The Egyptian Journal of Internal Medicine</td>\n",
       "      <td>2090-9098</td>\n",
       "      <td>Springer</td>\n",
       "      <td>CC BY</td>\n",
       "      <td>see website</td>\n",
       "      <td>see website</td>\n",
       "      <td>see website</td>\n",
       "      <td>https://ejim.springeropen.com</td>\n",
       "      <td>https://resource-cms.springernature.com/spring...</td>\n",
       "    </tr>\n",
       "    <tr>\n",
       "      <th>65</th>\n",
       "      <td>Biology Direct</td>\n",
       "      <td>1745-6150</td>\n",
       "      <td>BioMed Central</td>\n",
       "      <td>CC BY + CC0</td>\n",
       "      <td>2390</td>\n",
       "      <td>2790</td>\n",
       "      <td>2090</td>\n",
       "      <td>NaN</td>\n",
       "      <td>https://resource-cms.springernature.com/spring...</td>\n",
       "    </tr>\n",
       "  </tbody>\n",
       "</table>\n",
       "</div>"
      ],
      "text/plain": [
       "                                 Journal title      eISSN         Imprint  \\\n",
       "182                   Clinical Cancer Bulletin  2791-3937        Springer   \n",
       "656  The Egyptian Journal of Internal Medicine  2090-9098        Springer   \n",
       "65                              Biology Direct  1745-6150  BioMed Central   \n",
       "\n",
       "    Default License      EUR '24      USD '24      GBP '24  \\\n",
       "182           CC BY         1790         2190         1490   \n",
       "656           CC BY  see website  see website  see website   \n",
       "65      CC BY + CC0         2390         2790         2090   \n",
       "\n",
       "                           Website  \\\n",
       "182                            NaN   \n",
       "656  https://ejim.springeropen.com   \n",
       "65                             NaN   \n",
       "\n",
       "                                                source  \n",
       "182  https://resource-cms.springernature.com/spring...  \n",
       "656  https://resource-cms.springernature.com/spring...  \n",
       "65   https://resource-cms.springernature.com/spring...  "
      ]
     },
     "execution_count": 5,
     "metadata": {},
     "output_type": "execute_result"
    }
   ],
   "source": [
    "gold.sample(3)"
   ]
  },
  {
   "attachments": {},
   "cell_type": "markdown",
   "metadata": {},
   "source": [
    "Any journal with a provided APC price (`EUR '24` field, APC price in Euros) are immediately considered `gold`. If the data set provides the value `see website`, we assign an `unknown` `oa_status`, to avoid mistakenly assigning `gold` status."
   ]
  },
  {
   "cell_type": "code",
   "execution_count": 6,
   "metadata": {},
   "outputs": [],
   "source": [
    "gold['oa_status'] = ['gold' if row['EUR \\'24'] != 'see website' else 'unknown' for i, row in gold.iterrows()]\n",
    "gold = gold[['Journal title', 'eISSN', 'Imprint', 'Default License', 'oa_status','source']]\n",
    "gold.columns = ['title','eISSN', 'editor','default_license', 'oa_status','source']"
   ]
  },
  {
   "attachments": {},
   "cell_type": "markdown",
   "metadata": {},
   "source": [
    "## SpringerNature Hybrid Journals"
   ]
  },
  {
   "cell_type": "code",
   "execution_count": 7,
   "metadata": {},
   "outputs": [
    {
     "data": {
      "text/html": [
       "<div>\n",
       "<style scoped>\n",
       "    .dataframe tbody tr th:only-of-type {\n",
       "        vertical-align: middle;\n",
       "    }\n",
       "\n",
       "    .dataframe tbody tr th {\n",
       "        vertical-align: top;\n",
       "    }\n",
       "\n",
       "    .dataframe thead th {\n",
       "        text-align: right;\n",
       "    }\n",
       "</style>\n",
       "<table border=\"1\" class=\"dataframe\">\n",
       "  <thead>\n",
       "    <tr style=\"text-align: right;\">\n",
       "      <th></th>\n",
       "      <th>Journal title</th>\n",
       "      <th>eISSN</th>\n",
       "      <th>Imprint</th>\n",
       "      <th>Default License</th>\n",
       "      <th>EUR '24</th>\n",
       "      <th>USD '24</th>\n",
       "      <th>GBP '24</th>\n",
       "      <th>source</th>\n",
       "    </tr>\n",
       "  </thead>\n",
       "  <tbody>\n",
       "    <tr>\n",
       "      <th>1748</th>\n",
       "      <td>Purinergic Signalling</td>\n",
       "      <td>1573-9546</td>\n",
       "      <td>Springer</td>\n",
       "      <td>CC BY</td>\n",
       "      <td>3390</td>\n",
       "      <td>4390</td>\n",
       "      <td>2790</td>\n",
       "      <td>https://resource-cms.springernature.com/spring...</td>\n",
       "    </tr>\n",
       "    <tr>\n",
       "      <th>11</th>\n",
       "      <td>Acta Biotheoretica</td>\n",
       "      <td>1572-8358</td>\n",
       "      <td>Springer</td>\n",
       "      <td>CC BY</td>\n",
       "      <td>2490</td>\n",
       "      <td>3090</td>\n",
       "      <td>2190</td>\n",
       "      <td>https://resource-cms.springernature.com/spring...</td>\n",
       "    </tr>\n",
       "    <tr>\n",
       "      <th>9</th>\n",
       "      <td>Acta Analytica</td>\n",
       "      <td>1874-6349</td>\n",
       "      <td>Springer</td>\n",
       "      <td>CC BY</td>\n",
       "      <td>2490</td>\n",
       "      <td>3090</td>\n",
       "      <td>2190</td>\n",
       "      <td>https://resource-cms.springernature.com/spring...</td>\n",
       "    </tr>\n",
       "  </tbody>\n",
       "</table>\n",
       "</div>"
      ],
      "text/plain": [
       "              Journal title      eISSN   Imprint Default License EUR '24  \\\n",
       "1748  Purinergic Signalling  1573-9546  Springer           CC BY    3390   \n",
       "11       Acta Biotheoretica  1572-8358  Springer           CC BY    2490   \n",
       "9            Acta Analytica  1874-6349  Springer           CC BY    2490   \n",
       "\n",
       "     USD '24 GBP '24                                             source  \n",
       "1748    4390    2790  https://resource-cms.springernature.com/spring...  \n",
       "11      3090    2190  https://resource-cms.springernature.com/spring...  \n",
       "9       3090    2190  https://resource-cms.springernature.com/spring...  "
      ]
     },
     "execution_count": 7,
     "metadata": {},
     "output_type": "execute_result"
    }
   ],
   "source": [
    "hybrid = pd.read_excel(hybrid_url, skiprows=3)\n",
    "hybrid['source'] = [hybrid_url for i in range(len(hybrid))]\n",
    "hybrid.sample(3)"
   ]
  },
  {
   "attachments": {},
   "cell_type": "markdown",
   "metadata": {},
   "source": [
    "All these journals have a `hybrid` value for `oa_status` by default."
   ]
  },
  {
   "cell_type": "code",
   "execution_count": 8,
   "metadata": {},
   "outputs": [
    {
     "data": {
      "text/plain": [
       "Text(0.5, 1.0, 'Open access status counts for the hybrid data set')"
      ]
     },
     "execution_count": 8,
     "metadata": {},
     "output_type": "execute_result"
    },
    {
     "data": {
      "image/png": "[encoded data removed]",
      "text/plain": [
       "<Figure size 640x480 with 1 Axes>"
      ]
     },
     "metadata": {},
     "output_type": "display_data"
    }
   ],
   "source": [
    "hybrid['oa_status'] = ['hybrid' for i in range(len(hybrid))]\n",
    "hybrid = hybrid[['Journal title', 'eISSN', 'Imprint', 'Default License', 'oa_status','source']]\n",
    "hybrid.columns = ['title','eISSN', 'editor','default_license', 'oa_status', 'source']\n",
    "hybrid['oa_status'].hist()\n",
    "plt.title('Open access status counts for the hybrid data set')"
   ]
  },
  {
   "cell_type": "code",
   "execution_count": 9,
   "metadata": {},
   "outputs": [
    {
     "data": {
      "text/plain": [
       "Text(0.5, 1.0, 'Default license counts for the hybrid data set')"
      ]
     },
     "execution_count": 9,
     "metadata": {},
     "output_type": "execute_result"
    },
    {
     "data": {
      "image/png": "[encoded data removed]",
      "text/plain": [
       "<Figure size 640x480 with 1 Axes>"
      ]
     },
     "metadata": {},
     "output_type": "display_data"
    }
   ],
   "source": [
    "hybrid['default_license'].hist()\n",
    "plt.title('Default license counts for the hybrid data set')"
   ]
  },
  {
   "attachments": {},
   "cell_type": "markdown",
   "metadata": {},
   "source": [
    "## Self-publishing archives\n",
    "We retrieve data for self-publishing archives (like ArXiv) from the raw data behind ASAPbio's list of of preprint servers (Zenodo, https://doi.org/10.5281/zenodo.8230987).\n"
   ]
  },
  {
   "cell_type": "code",
   "execution_count": 10,
   "metadata": {},
   "outputs": [
    {
     "data": {
      "text/html": [
       "<div>\n",
       "<style scoped>\n",
       "    .dataframe tbody tr th:only-of-type {\n",
       "        vertical-align: middle;\n",
       "    }\n",
       "\n",
       "    .dataframe tbody tr th {\n",
       "        vertical-align: top;\n",
       "    }\n",
       "\n",
       "    .dataframe thead th {\n",
       "        text-align: right;\n",
       "    }\n",
       "</style>\n",
       "<table border=\"1\" class=\"dataframe\">\n",
       "  <thead>\n",
       "    <tr style=\"text-align: right;\">\n",
       "      <th></th>\n",
       "      <th>Preprint server</th>\n",
       "      <th>URL</th>\n",
       "      <th>Platform description</th>\n",
       "      <th>Disciplinary scope</th>\n",
       "      <th>Launch date</th>\n",
       "      <th>Ownership</th>\n",
       "      <th>Ownership type</th>\n",
       "      <th>For-profit or not-for-profit</th>\n",
       "      <th>Sustainability of the service</th>\n",
       "      <th>Platform technology, openness of source code</th>\n",
       "      <th>...</th>\n",
       "      <th>Journal submission options</th>\n",
       "      <th>Journals directly associated with the platform</th>\n",
       "      <th>Journals to which submission is facilitated</th>\n",
       "      <th>Link to published version</th>\n",
       "      <th>Preservation of content</th>\n",
       "      <th>Usage metrics on abstract page</th>\n",
       "      <th>Commenting</th>\n",
       "      <th>Commenting moderation</th>\n",
       "      <th>Other features</th>\n",
       "      <th>Last directory update</th>\n",
       "    </tr>\n",
       "  </thead>\n",
       "  <tbody>\n",
       "    <tr>\n",
       "      <th>12</th>\n",
       "      <td>Cambridge Open Engage</td>\n",
       "      <td>https://www.cambridge.org/engage/coe/public-da...</td>\n",
       "      <td>The collaborative site to upload, share and ad...</td>\n",
       "      <td>All except clinical medicine</td>\n",
       "      <td>2019-08</td>\n",
       "      <td>Cambridge Univeristy Press</td>\n",
       "      <td>Publishing organisation (publisher)</td>\n",
       "      <td>Non-profit</td>\n",
       "      <td>Run by Cambridge University Press, also run as...</td>\n",
       "      <td>Cambridge Open Engage, closed source</td>\n",
       "      <td>...</td>\n",
       "      <td>Unrestricted - manuscript can be published in ...</td>\n",
       "      <td>NaN</td>\n",
       "      <td>NaN</td>\n",
       "      <td>Can be added by author in dashboard, and we al...</td>\n",
       "      <td>Preservation on roadmap for future development</td>\n",
       "      <td>Views, downloads, Altmetric, Citations, number...</td>\n",
       "      <td>Commenting feature on site</td>\n",
       "      <td>Moderated after posting if reported by user</td>\n",
       "      <td>NaN</td>\n",
       "      <td>2022-08-16</td>\n",
       "    </tr>\n",
       "    <tr>\n",
       "      <th>56</th>\n",
       "      <td>SSRN</td>\n",
       "      <td>https://www.ssrn.com/index.cfm/en/</td>\n",
       "      <td>...is an open-access online preprint community...</td>\n",
       "      <td>Broad scope covering multiple scientific field...</td>\n",
       "      <td>Unknown</td>\n",
       "      <td>Elsevier</td>\n",
       "      <td>Publishing organisation (publisher)</td>\n",
       "      <td>For-profit</td>\n",
       "      <td>Unknown</td>\n",
       "      <td>Unknown, Unknown</td>\n",
       "      <td>...</td>\n",
       "      <td>Unrestricted - manuscript can be published in ...</td>\n",
       "      <td>NaN</td>\n",
       "      <td>Not available</td>\n",
       "      <td>Unknown</td>\n",
       "      <td>Unknown</td>\n",
       "      <td>Views, Downloads, Plum Metrics</td>\n",
       "      <td>NaN</td>\n",
       "      <td>NaN</td>\n",
       "      <td>Plum metrics</td>\n",
       "      <td>2023-08-08 (external content indexing only)</td>\n",
       "    </tr>\n",
       "    <tr>\n",
       "      <th>63</th>\n",
       "      <td>Jxiv</td>\n",
       "      <td>https://jxiv.jst.go.jp/</td>\n",
       "      <td>Jxiv is the first full-fledged preprint server...</td>\n",
       "      <td>All research fields including natural sciences...</td>\n",
       "      <td>2022-03</td>\n",
       "      <td>Japan Science and Technology Agency</td>\n",
       "      <td>governmental organization</td>\n",
       "      <td>Non-profit</td>\n",
       "      <td>operated by government budget</td>\n",
       "      <td>Open Preprint Systems, open source</td>\n",
       "      <td>...</td>\n",
       "      <td>Unrestricted - manuscript can be published in ...</td>\n",
       "      <td>NaN</td>\n",
       "      <td>NaN</td>\n",
       "      <td>Can be added by author</td>\n",
       "      <td>To be archived in a mirror site in the near fu...</td>\n",
       "      <td>Downloads</td>\n",
       "      <td>No</td>\n",
       "      <td>NaN</td>\n",
       "      <td>Onsite search</td>\n",
       "      <td>2023-02-27</td>\n",
       "    </tr>\n",
       "  </tbody>\n",
       "</table>\n",
       "<p>3 rows × 48 columns</p>\n",
       "</div>"
      ],
      "text/plain": [
       "          Preprint server                                                URL  \\\n",
       "12  Cambridge Open Engage  https://www.cambridge.org/engage/coe/public-da...   \n",
       "56                   SSRN                 https://www.ssrn.com/index.cfm/en/   \n",
       "63                   Jxiv                            https://jxiv.jst.go.jp/   \n",
       "\n",
       "                                 Platform description  \\\n",
       "12  The collaborative site to upload, share and ad...   \n",
       "56  ...is an open-access online preprint community...   \n",
       "63  Jxiv is the first full-fledged preprint server...   \n",
       "\n",
       "                                   Disciplinary scope Launch date  \\\n",
       "12                       All except clinical medicine     2019-08   \n",
       "56  Broad scope covering multiple scientific field...     Unknown   \n",
       "63  All research fields including natural sciences...     2022-03   \n",
       "\n",
       "                              Ownership                       Ownership type  \\\n",
       "12           Cambridge Univeristy Press  Publishing organisation (publisher)   \n",
       "56                             Elsevier  Publishing organisation (publisher)   \n",
       "63  Japan Science and Technology Agency            governmental organization   \n",
       "\n",
       "   For-profit or not-for-profit  \\\n",
       "12                   Non-profit   \n",
       "56                   For-profit   \n",
       "63                   Non-profit   \n",
       "\n",
       "                        Sustainability of the service  \\\n",
       "12  Run by Cambridge University Press, also run as...   \n",
       "56                                            Unknown   \n",
       "63                      operated by government budget   \n",
       "\n",
       "   Platform technology, openness of source code  ...  \\\n",
       "12         Cambridge Open Engage, closed source  ...   \n",
       "56                             Unknown, Unknown  ...   \n",
       "63           Open Preprint Systems, open source  ...   \n",
       "\n",
       "                           Journal submission options  \\\n",
       "12  Unrestricted - manuscript can be published in ...   \n",
       "56  Unrestricted - manuscript can be published in ...   \n",
       "63  Unrestricted - manuscript can be published in ...   \n",
       "\n",
       "   Journals directly associated with the platform  \\\n",
       "12                                            NaN   \n",
       "56                                            NaN   \n",
       "63                                            NaN   \n",
       "\n",
       "   Journals to which submission is facilitated  \\\n",
       "12                                         NaN   \n",
       "56                               Not available   \n",
       "63                                         NaN   \n",
       "\n",
       "                            Link to published version  \\\n",
       "12  Can be added by author in dashboard, and we al...   \n",
       "56                                            Unknown   \n",
       "63                             Can be added by author   \n",
       "\n",
       "                              Preservation of content  \\\n",
       "12     Preservation on roadmap for future development   \n",
       "56                                            Unknown   \n",
       "63  To be archived in a mirror site in the near fu...   \n",
       "\n",
       "                       Usage metrics on abstract page  \\\n",
       "12  Views, downloads, Altmetric, Citations, number...   \n",
       "56                     Views, Downloads, Plum Metrics   \n",
       "63                                          Downloads   \n",
       "\n",
       "                    Commenting                        Commenting moderation  \\\n",
       "12  Commenting feature on site  Moderated after posting if reported by user   \n",
       "56                         NaN                                          NaN   \n",
       "63                          No                                          NaN   \n",
       "\n",
       "   Other features                        Last directory update  \n",
       "12            NaN                                   2022-08-16  \n",
       "56   Plum metrics  2023-08-08 (external content indexing only)  \n",
       "63  Onsite search                                   2023-02-27  \n",
       "\n",
       "[3 rows x 48 columns]"
      ]
     },
     "execution_count": 10,
     "metadata": {},
     "output_type": "execute_result"
    }
   ],
   "source": [
    "archives_raw = pd.read_csv(archives_url)\n",
    "archives_raw.sample(3)"
   ]
  },
  {
   "attachments": {},
   "cell_type": "markdown",
   "metadata": {},
   "source": [
    "We can drill down on the `Licensing options` column to try to find the `default_license` for each repository:"
   ]
  },
  {
   "cell_type": "code",
   "execution_count": 11,
   "metadata": {},
   "outputs": [
    {
     "data": {
      "text/plain": [
       "{'All Rights Reserved, CC-BY 4.0, CC-BY-NC-ND 4.0, CC-BY-NC-SA 4.0, CC-0',\n",
       " 'Authors are provided with a choice of licenses: CC BY Attribution 4.0 International, CC0 1.0 Universal, Academic Free License (AFL) 3.0, GNU Lesser General Public License (LGPL) 2.1, with no preference for which license chosen',\n",
       " 'Authors are provided with a choice of licenses: CC BY Attribution 4.0 International, CC0 1.0 Universal, CC BY Attribution-ShareAlike 4.0 International, CC BY Attribution-NonCommercial-NoDerivatives 4.0 International; with no preference for which license chosen',\n",
       " 'Authors are provided with a choice of licenses: CC BY Attribution 4.0 International, CC0 1.0 Universal, No license; with no preference for which license chosen',\n",
       " 'Authors are provided with a choice of licenses: CC BY Attribution-ShareAlike 4.0 International, CC BY Attribution-NonCommercial-NoDerivatives 4.0 International, CC BY Attribution 4.0 International, CC0 1.0 Universal, CC BY Attribution-ShareAlike 4.0 International, CC BY Attribution-NonCommercial-NoDerivatives 4.0 International',\n",
       " 'Authors are provided with a choice of licenses: CC BY, CC BY-NC, CC BY-NC-ND',\n",
       " 'Authors are provided with a choice of licenses: CC BY, CC BY-NC, CC BY-NC-ND, non-exclusive license; with no preference stated',\n",
       " 'Authors are provided with a choice of licenses: CC BY, CC BY-NC-ND, No License, GNU Lesser General Public License (LGPL) 3.0, Eclipse Public License 1.0, CC BY-SA, with CC BY preferred',\n",
       " 'Authors are provided with a choice of licenses: CC0 (public domain), CC BY, CC BY-NC-ND, No license (copyright holder and year), CC BY-SA, Academic Free License (AFL) 3.0, Artistic License 2.0, MIT License, Eclipse Public License 1.0, BSD 2-Clause; BSD 3-Clause, GNU LGPL 2.1, GNP LGPL 3.0, GNU GPL 2.0, GNU GPL 3.0, Apache License 2.0, Mozilla Public License; with no preference for which license chosen',\n",
       " 'Authors are provided with a choice of licenses: CC0 1.0 Universal, CC BY Attribution 4.0 International',\n",
       " 'Authors are provided with a choice of licenses: CC0 1.0 Universal, CC BY Attribution 4.0 International, No license; with CC0 or CC BY preferred',\n",
       " 'Authors are provided with a choice of licenses: CC0, CC BY, CC BY-NC, CC BY-ND, CC BY-NC-ND, or no reuse; with no preference for which license chosen',\n",
       " 'Authors are provided with a choice of licenses: CC0, CC BY, CC BY-SA 4.0, CC BY-NC-SA 4.0, non-exclusive license to distribute, any other CC license as specified in manuscript text; with no preference for which license chosen',\n",
       " 'Authors are provided with a choice of licenses: CC0, CC BY, CC BY-SA, CC BY-NC-SA; with no preference for which license chosen',\n",
       " 'Authors are provided with a choice of licenses: CC0, CC BY, No license, with no preference for which license chosen',\n",
       " 'Authors are provided with a choice of licenses: CC0, CC BY, no license required; with CC0 preferred',\n",
       " 'Authors are provided with a choice of licenses: CC0, CC BY, no license, with CC0 or CC BY preferred',\n",
       " 'Authors are provided with a choice of licenses: CC0, CC BY, no license, with no preference stated',\n",
       " 'Authors are provided with a choice of licenses: CC0, CC BY, with CC BY preferred',\n",
       " 'Authors are provided with a choice of licenses: CC0, CC BY, with no preference stated',\n",
       " 'Authors are provided with a choice of licenses: GNU Lesser General Public License (LGPL) 3.0, BSD 3-Clause \"New\"/\"Revised\" License, BSD 2-Clause \"Simplified\" License, GNU Lesser General Public License (LGPL) 2.1, CC BY Attribution 4.0 International, Artistic License 2.0, CC0 1.0 Universal, Apache License 2.0, Mozilla Public License 2.0, Academic Free License (AFL) 3.0, Eclipse Public License 1.0, MIT License, GNU General Public License (GPL) 3.0, GNU General Public License (GPL) 2.0',\n",
       " 'Authors are provided with a choice of licenses: GNU Lesser General Public License (LGPL) 3.0, BSD 3-Clause \"New\"/\"Revised\" License, BSD 2-Clause \"Simplified\" License, GNU Lesser General Public License (LGPL) 2.1, CC BY Attribution 4.0 International, Artistic License 2.0, CC0 1.0 Universal, Apache License 2.0, Mozilla Public License 2.0, Academic Free License (AFL) 3.0, Eclipse Public License 1.0, MIT License, GNU General Public License (GPL) 3.0, GNU General Public License (GPL) 2.0, No license',\n",
       " 'Authors are provided with a choice of licenses: GNU Lesser General Public License (LGPL) 3.0, BSD 3-Clause \"New\"/\"Revised\" License, BSD 2-Clause \"Simplified\" License, GNU Lesser General Public License (LGPL) 2.1, CC BY Attribution 4.0 International, Artistic License 2.0, CC0 1.0 Universal, Apache License 2.0, Mozilla Public License 2.0, Academic Free License (AFL) 3.0, Eclipse Public License 1.0, MIT License, GNU General Public License (GPL) 3.0, GNU General Public License (GPL) 2.0, No license, with CC BY preferred',\n",
       " 'Authors are provided with a choice of licenses: No license, GNU Lesser General Public License (LGPL) 3.0, BSD 3-Clause \"New\"/\"Revised\" License, BSD 2-Clause \"Simplified\" License, GNU Lesser General Public License (LGPL) 2.1, CC BY Attribution 4.0 International, Artistic License 2.0, CC0 1.0 Universal, Apache License 2.0, Mozilla Public License 2.0, Academic Free License (AFL) 3.0, Eclipse Public License 1.0, MIT License, GNU General Public License (GPL) 3.0, GNU General Public License (GPL) 2.0',\n",
       " 'Authors can choose among (1) Non exclusive, no reuse, (2) CC BY 4.0, (3) Public domain, and (4) MIT license',\n",
       " 'Authors can use any license',\n",
       " 'Authors must select one of six Creative Commons licenses',\n",
       " 'Authors must use CC BY Attribution 4.0 International license',\n",
       " 'Authors must use CC BY license',\n",
       " 'Authors must use CC BY-NC-ND license',\n",
       " 'Authors must use CC0 license',\n",
       " 'Authors must use no license (all rights reserved)',\n",
       " 'CC BY-NC',\n",
       " 'CC BY-NC-SA 4.0',\n",
       " 'CC-BY 4.0',\n",
       " 'CC-BY, CC-BY-SA, CC-BY-ND, CC-BY-NC, CC-BY-NC-SA, and CC-BY-NC-ND',\n",
       " 'CC-By Attribution 4.0 International, CC0 1.0 Universal, CC-By Attribution-NonCommercial-NoDerivatives 4.0 International',\n",
       " 'No license, CC-By Attribution 4.0 International, CC0 1.0 Universal',\n",
       " 'No license, CC-By Attribution 4.0 International, CC0 1.0 Universal, CC-By Attribution-ShareAlike 4.0 International, CC-By Attribution-NonCommercial-NoDerivatives 4.0 International',\n",
       " 'No license, GNU Lesser General Public License (LGPL) 3.0, GNU Lesser General Public License (LGPL) 2.1, CC-By Attribution 4.0 International, Artistic License 2.0, CC0 1.0 Universal, BSD 3-Clause \"New\"/\"Revised\" License, BSD 2-Clause \"Simplified\" License, Apache License 2.0, CC-By Attribution-ShareAlike 4.0 International, CC-By Attribution-NonCommercial-NoDerivatives 4.0 International, Academic Free License (AFL) 3.0, Eclipse Public License 1.0, Mozilla Public License 2.0, MIT License, GNU General Public License (GPL) 3.0, GNU General Public License (GPL) 2.0',\n",
       " 'Unknown',\n",
       " nan}"
      ]
     },
     "execution_count": 11,
     "metadata": {},
     "output_type": "execute_result"
    }
   ],
   "source": [
    "set(archives_raw['Licensing options'])"
   ]
  },
  {
   "attachments": {},
   "cell_type": "markdown",
   "metadata": {},
   "source": [
    "The following code chunk analyzes the values for `Licensing options` and sets the `default_license` and `oa_status`, when possible:"
   ]
  },
  {
   "cell_type": "code",
   "execution_count": 12,
   "metadata": {},
   "outputs": [
    {
     "name": "stderr",
     "output_type": "stream",
     "text": [
      "/tmp/ipykernel_59566/1297236607.py:31: FutureWarning: Setting an item of incompatible dtype is deprecated and will raise in a future error of pandas. Value 'open, unknown type' has dtype incompatible with float64, please explicitly cast to a compatible dtype first.\n",
      "  archives_raw.at[i, 'license'] = license_val\n",
      "/tmp/ipykernel_59566/1297236607.py:32: FutureWarning: Setting an item of incompatible dtype is deprecated and will raise in a future error of pandas. Value 'green' has dtype incompatible with float64, please explicitly cast to a compatible dtype first.\n",
      "  archives_raw.at[i, 'oa_status'] = oa_status\n"
     ]
    }
   ],
   "source": [
    "for i, row in archives_raw.iterrows():\n",
    "    listed_licenses = row['Licensing options']\n",
    "    license_val = 'unknown'\n",
    "    oa_status = 'green'\n",
    "    if type(listed_licenses) == str:\n",
    "        if 'Unknown' == listed_licenses:\n",
    "            license_val = 'unknown'\n",
    "            oa_status = 'unknown'\n",
    "        elif 'Authors must use no license (all rights reserved)' in listed_licenses:\n",
    "            license_val = 'closed'\n",
    "            oa_status = 'closed'\n",
    "        elif any(license in listed_licenses for license in open_licenses):\n",
    "            if 'no reuse' not in listed_licenses:\n",
    "                license_val = 'open, unknown type'\n",
    "                oa_status = 'green'\n",
    "        elif 'Authors must use CC' in listed_licenses:\n",
    "            oa_status = 'green'\n",
    "            license_val = listed_licenses.split('Authors must use ')[1].split('license')[0]\n",
    "            if license_val == 'no ':\n",
    "                license_val = 'closed'\n",
    "                oa_status = 'closed'\n",
    "        elif 'Authors must select one of six Creative' or 'with CC0 or CC BY preferred' in listed_licenses:       \n",
    "            if 'with CC BY preferred' in listed_licenses:\n",
    "                license_val = 'CC BY'\n",
    "                oa_status = 'green'\n",
    "            else:\n",
    "                license_val = 'CC BY + CC0'\n",
    "                oa_status = 'green'\n",
    "                \n",
    "\n",
    "    archives_raw.at[i, 'license'] = license_val\n",
    "    archives_raw.at[i, 'oa_status'] = oa_status\n",
    "    \n",
    "# Convert the 'license' column to object dtype\n",
    "archives_raw['license'] = archives_raw['license'].astype('str')\n",
    "archives_raw['oa_status'] = archives_raw['oa_status'].astype('str')"
   ]
  },
  {
   "attachments": {},
   "cell_type": "markdown",
   "metadata": {},
   "source": [
    "Drop and rename columns, visualize the obtained `oa_status`:"
   ]
  },
  {
   "cell_type": "code",
   "execution_count": 13,
   "metadata": {},
   "outputs": [
    {
     "data": {
      "text/plain": [
       "Text(0.5, 1.0, 'Open access status counts for the archives data set')"
      ]
     },
     "execution_count": 13,
     "metadata": {},
     "output_type": "execute_result"
    },
    {
     "data": {
      "image/png": "[encoded data removed]",
      "text/plain": [
       "<Figure size 640x480 with 1 Axes>"
      ]
     },
     "metadata": {},
     "output_type": "display_data"
    }
   ],
   "source": [
    "archives = pd.DataFrame({'title': archives_raw['Preprint server'],\n",
    "                         'eISSN': 'unknown',\n",
    "                         'editor': archives_raw['Ownership'],\n",
    "                         'default_license': archives_raw['license'],\n",
    "                         'oa_status': archives_raw['oa_status'],\n",
    "                         'source': [archives_url for i in range(len(archives_raw))]})\n",
    "archives['oa_status'].hist()\n",
    "plt.title('Open access status counts for the archives data set')"
   ]
  },
  {
   "attachments": {},
   "cell_type": "markdown",
   "metadata": {},
   "source": [
    "And `default_license`:"
   ]
  },
  {
   "cell_type": "code",
   "execution_count": 14,
   "metadata": {},
   "outputs": [
    {
     "data": {
      "text/plain": [
       "Text(0.5, 1.0, 'Default license counts for the archives data set')"
      ]
     },
     "execution_count": 14,
     "metadata": {},
     "output_type": "execute_result"
    },
    {
     "data": {
      "image/png": "[encoded data removed]",
      "text/plain": [
       "<Figure size 640x480 with 1 Axes>"
      ]
     },
     "metadata": {},
     "output_type": "display_data"
    }
   ],
   "source": [
    "archives['default_license'].hist()\n",
    "plt.title('Default license counts for the archives data set')"
   ]
  },
  {
   "attachments": {},
   "cell_type": "markdown",
   "metadata": {},
   "source": [
    "## Concatenate data\n",
    "We concatenate the data and visualize the overall `oa_status` counts:\n"
   ]
  },
  {
   "cell_type": "code",
   "execution_count": 15,
   "metadata": {},
   "outputs": [
    {
     "data": {
      "text/plain": [
       "Text(0.5, 1.0, 'Open access status counts for the complete data set')"
      ]
     },
     "execution_count": 15,
     "metadata": {},
     "output_type": "execute_result"
    },
    {
     "data": {
      "image/png": "[encoded data removed]",
      "text/plain": [
       "<Figure size 640x480 with 1 Axes>"
      ]
     },
     "metadata": {},
     "output_type": "display_data"
    }
   ],
   "source": [
    "all = pd.concat([gold, hybrid, archives])\n",
    "all['oa_status'].hist()\n",
    "plt.title('Open access status counts for the complete data set')"
   ]
  },
  {
   "attachments": {},
   "cell_type": "markdown",
   "metadata": {},
   "source": [
    "As well as the overall `default_license` counts:"
   ]
  },
  {
   "cell_type": "code",
   "execution_count": 16,
   "metadata": {},
   "outputs": [
    {
     "data": {
      "text/plain": [
       "Text(0.5, 1.0, 'Default license counts for the complete data set')"
      ]
     },
     "execution_count": 16,
     "metadata": {},
     "output_type": "execute_result"
    },
    {
     "data": {
      "image/png": "[encoded data removed]",
      "text/plain": [
       "<Figure size 640x480 with 1 Axes>"
      ]
     },
     "metadata": {},
     "output_type": "display_data"
    }
   ],
   "source": [
    "all['default_license'].hist()\n",
    "plt.xticks(rotation=45)\n",
    "plt.title('Default license counts for the complete data set')"
   ]
  },
  {
   "cell_type": "code",
   "execution_count": 17,
   "metadata": {},
   "outputs": [
    {
     "data": {
      "text/html": [
       "<div>\n",
       "<style scoped>\n",
       "    .dataframe tbody tr th:only-of-type {\n",
       "        vertical-align: middle;\n",
       "    }\n",
       "\n",
       "    .dataframe tbody tr th {\n",
       "        vertical-align: top;\n",
       "    }\n",
       "\n",
       "    .dataframe thead th {\n",
       "        text-align: right;\n",
       "    }\n",
       "</style>\n",
       "<table border=\"1\" class=\"dataframe\">\n",
       "  <thead>\n",
       "    <tr style=\"text-align: right;\">\n",
       "      <th></th>\n",
       "      <th>title</th>\n",
       "      <th>eISSN</th>\n",
       "      <th>editor</th>\n",
       "      <th>default_license</th>\n",
       "      <th>oa_status</th>\n",
       "      <th>source</th>\n",
       "    </tr>\n",
       "  </thead>\n",
       "  <tbody>\n",
       "    <tr>\n",
       "      <th>count</th>\n",
       "      <td>2848</td>\n",
       "      <td>2845</td>\n",
       "      <td>2844</td>\n",
       "      <td>2848</td>\n",
       "      <td>2848</td>\n",
       "      <td>2848</td>\n",
       "    </tr>\n",
       "    <tr>\n",
       "      <th>unique</th>\n",
       "      <td>2848</td>\n",
       "      <td>2782</td>\n",
       "      <td>117</td>\n",
       "      <td>7</td>\n",
       "      <td>5</td>\n",
       "      <td>3</td>\n",
       "    </tr>\n",
       "    <tr>\n",
       "      <th>top</th>\n",
       "      <td>3D Printing in Medicine</td>\n",
       "      <td>unknown</td>\n",
       "      <td>Springer</td>\n",
       "      <td>CC BY</td>\n",
       "      <td>hybrid</td>\n",
       "      <td>https://resource-cms.springernature.com/spring...</td>\n",
       "    </tr>\n",
       "    <tr>\n",
       "      <th>freq</th>\n",
       "      <td>1</td>\n",
       "      <td>64</td>\n",
       "      <td>1998</td>\n",
       "      <td>2374</td>\n",
       "      <td>2091</td>\n",
       "      <td>2091</td>\n",
       "    </tr>\n",
       "  </tbody>\n",
       "</table>\n",
       "</div>"
      ],
      "text/plain": [
       "                          title    eISSN    editor default_license oa_status  \\\n",
       "count                      2848     2845      2844            2848      2848   \n",
       "unique                     2848     2782       117               7         5   \n",
       "top     3D Printing in Medicine  unknown  Springer           CC BY    hybrid   \n",
       "freq                          1       64      1998            2374      2091   \n",
       "\n",
       "                                                   source  \n",
       "count                                                2848  \n",
       "unique                                                  3  \n",
       "top     https://resource-cms.springernature.com/spring...  \n",
       "freq                                                 2091  "
      ]
     },
     "execution_count": 17,
     "metadata": {},
     "output_type": "execute_result"
    }
   ],
   "source": [
    "all.describe()"
   ]
  },
  {
   "attachments": {},
   "cell_type": "markdown",
   "metadata": {},
   "source": [
    "Lastly, we concatenate the data for the three data sets and export as [`oa_status.yaml`](../../data/oa_status.yaml).\n"
   ]
  },
  {
   "cell_type": "code",
   "execution_count": 18,
   "metadata": {},
   "outputs": [],
   "source": [
    "yaml_data = all.to_dict(orient='records')\n",
    "formatted_yaml_data = [{entry['title']: {key: entry[key] for key in entry if key != 'title'}} for entry in yaml_data]\n",
    "\n",
    "# Save YAML to a file\n",
    "with open('../../data/oa_status.yaml', 'w') as file:\n",
    "    yaml.dump(formatted_yaml_data, file, default_flow_style=False)\n"
   ]
  },
  {
   "cell_type": "code",
   "execution_count": 19,
   "metadata": {},
   "outputs": [
    {
     "data": {
      "text/plain": [
       "{'3D Printing in Medicine': {'eISSN': '2365-6271',\n",
       "  'editor': 'BioMed Central',\n",
       "  'default_license': 'CC BY + CC0',\n",
       "  'oa_status': 'gold',\n",
       "  'source': 'https://resource-cms.springernature.com/springer-cms/rest/v1/content/26206380/data/v7'}}"
      ]
     },
     "execution_count": 19,
     "metadata": {},
     "output_type": "execute_result"
    }
   ],
   "source": [
    "formatted_yaml_data[0]"
   ]
  }
 ],
 "metadata": {
  "kernelspec": {
   "display_name": "base",
   "language": "python",
   "name": "python3"
  },
  "language_info": {
   "codemirror_mode": {
    "name": "ipython",
    "version": 3
   },
   "file_extension": ".py",
   "mimetype": "text/x-python",
   "name": "python",
   "nbconvert_exporter": "python",
   "pygments_lexer": "ipython3",
   "version": "3.9.13"
  },
  "orig_nbformat": 4
 },
 "nbformat": 4,
 "nbformat_minor": 2
}
